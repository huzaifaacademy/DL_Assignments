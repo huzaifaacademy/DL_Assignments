{
 "cells": [
  {
   "cell_type": "code",
   "execution_count": 1,
   "metadata": {
    "executionInfo": {
     "elapsed": 465,
     "status": "ok",
     "timestamp": 1633104479543,
     "user": {
      "displayName": "CYBER HK",
      "photoUrl": "https://lh3.googleusercontent.com/a-/AOh14GiyocT8oLSn_FiTqec5kTFzAif584E4d0bD4kj8=s64",
      "userId": "02159633137535017398"
     },
     "user_tz": -60
    },
    "id": "kRkx16OujbI2"
   },
   "outputs": [],
   "source": [
    "import pandas as pd\n",
    "import numpy as np\n",
    "from tensorflow.keras import models, layers, regularizers\n",
    "from sklearn.model_selection import train_test_split\n",
    "from sklearn.metrics import mean_absolute_error as mae\n",
    "import matplotlib.pyplot as plt"
   ]
  },
  {
   "cell_type": "code",
   "execution_count": 2,
   "metadata": {
    "executionInfo": {
     "elapsed": 4,
     "status": "ok",
     "timestamp": 1633104480014,
     "user": {
      "displayName": "CYBER HK",
      "photoUrl": "https://lh3.googleusercontent.com/a-/AOh14GiyocT8oLSn_FiTqec5kTFzAif584E4d0bD4kj8=s64",
      "userId": "02159633137535017398"
     },
     "user_tz": -60
    },
    "id": "6g5613GUjwdx"
   },
   "outputs": [],
   "source": [
    "# load data\n",
    "data = pd.read_csv(\"compresive_strength_concrete.csv\")"
   ]
  },
  {
   "cell_type": "code",
   "execution_count": 3,
   "metadata": {
    "colab": {
     "base_uri": "https://localhost:8080/",
     "height": 276
    },
    "executionInfo": {
     "elapsed": 10,
     "status": "ok",
     "timestamp": 1633104513579,
     "user": {
      "displayName": "CYBER HK",
      "photoUrl": "https://lh3.googleusercontent.com/a-/AOh14GiyocT8oLSn_FiTqec5kTFzAif584E4d0bD4kj8=s64",
      "userId": "02159633137535017398"
     },
     "user_tz": -60
    },
    "id": "Ikmh5fVPkGdA",
    "outputId": "e1955a46-8cfb-4376-f6c5-3edb41b136a8"
   },
   "outputs": [
    {
     "data": {
      "text/html": [
       "<div>\n",
       "<style scoped>\n",
       "    .dataframe tbody tr th:only-of-type {\n",
       "        vertical-align: middle;\n",
       "    }\n",
       "\n",
       "    .dataframe tbody tr th {\n",
       "        vertical-align: top;\n",
       "    }\n",
       "\n",
       "    .dataframe thead th {\n",
       "        text-align: right;\n",
       "    }\n",
       "</style>\n",
       "<table border=\"1\" class=\"dataframe\">\n",
       "  <thead>\n",
       "    <tr style=\"text-align: right;\">\n",
       "      <th></th>\n",
       "      <th>Cement (component 1)(kg in a m^3 mixture)</th>\n",
       "      <th>Blast Furnace Slag (component 2)(kg in a m^3 mixture)</th>\n",
       "      <th>Fly Ash (component 3)(kg in a m^3 mixture)</th>\n",
       "      <th>Water  (component 4)(kg in a m^3 mixture)</th>\n",
       "      <th>Superplasticizer (component 5)(kg in a m^3 mixture)</th>\n",
       "      <th>Coarse Aggregate  (component 6)(kg in a m^3 mixture)</th>\n",
       "      <th>Fine Aggregate (component 7)(kg in a m^3 mixture)</th>\n",
       "      <th>Age (day)</th>\n",
       "      <th>Concrete compressive strength(MPa, megapascals)</th>\n",
       "    </tr>\n",
       "  </thead>\n",
       "  <tbody>\n",
       "    <tr>\n",
       "      <th>0</th>\n",
       "      <td>540.0</td>\n",
       "      <td>0.0</td>\n",
       "      <td>0.0</td>\n",
       "      <td>162.0</td>\n",
       "      <td>2.5</td>\n",
       "      <td>1040.0</td>\n",
       "      <td>676.0</td>\n",
       "      <td>28</td>\n",
       "      <td>79.99</td>\n",
       "    </tr>\n",
       "    <tr>\n",
       "      <th>1</th>\n",
       "      <td>540.0</td>\n",
       "      <td>0.0</td>\n",
       "      <td>0.0</td>\n",
       "      <td>162.0</td>\n",
       "      <td>2.5</td>\n",
       "      <td>1055.0</td>\n",
       "      <td>676.0</td>\n",
       "      <td>28</td>\n",
       "      <td>61.89</td>\n",
       "    </tr>\n",
       "    <tr>\n",
       "      <th>2</th>\n",
       "      <td>332.5</td>\n",
       "      <td>142.5</td>\n",
       "      <td>0.0</td>\n",
       "      <td>228.0</td>\n",
       "      <td>0.0</td>\n",
       "      <td>932.0</td>\n",
       "      <td>594.0</td>\n",
       "      <td>270</td>\n",
       "      <td>40.27</td>\n",
       "    </tr>\n",
       "    <tr>\n",
       "      <th>3</th>\n",
       "      <td>332.5</td>\n",
       "      <td>142.5</td>\n",
       "      <td>0.0</td>\n",
       "      <td>228.0</td>\n",
       "      <td>0.0</td>\n",
       "      <td>932.0</td>\n",
       "      <td>594.0</td>\n",
       "      <td>365</td>\n",
       "      <td>41.05</td>\n",
       "    </tr>\n",
       "    <tr>\n",
       "      <th>4</th>\n",
       "      <td>198.6</td>\n",
       "      <td>132.4</td>\n",
       "      <td>0.0</td>\n",
       "      <td>192.0</td>\n",
       "      <td>0.0</td>\n",
       "      <td>978.4</td>\n",
       "      <td>825.5</td>\n",
       "      <td>360</td>\n",
       "      <td>44.30</td>\n",
       "    </tr>\n",
       "  </tbody>\n",
       "</table>\n",
       "</div>"
      ],
      "text/plain": [
       "   Cement (component 1)(kg in a m^3 mixture)  \\\n",
       "0                                      540.0   \n",
       "1                                      540.0   \n",
       "2                                      332.5   \n",
       "3                                      332.5   \n",
       "4                                      198.6   \n",
       "\n",
       "   Blast Furnace Slag (component 2)(kg in a m^3 mixture)  \\\n",
       "0                                                0.0       \n",
       "1                                                0.0       \n",
       "2                                              142.5       \n",
       "3                                              142.5       \n",
       "4                                              132.4       \n",
       "\n",
       "   Fly Ash (component 3)(kg in a m^3 mixture)  \\\n",
       "0                                         0.0   \n",
       "1                                         0.0   \n",
       "2                                         0.0   \n",
       "3                                         0.0   \n",
       "4                                         0.0   \n",
       "\n",
       "   Water  (component 4)(kg in a m^3 mixture)  \\\n",
       "0                                      162.0   \n",
       "1                                      162.0   \n",
       "2                                      228.0   \n",
       "3                                      228.0   \n",
       "4                                      192.0   \n",
       "\n",
       "   Superplasticizer (component 5)(kg in a m^3 mixture)  \\\n",
       "0                                                2.5     \n",
       "1                                                2.5     \n",
       "2                                                0.0     \n",
       "3                                                0.0     \n",
       "4                                                0.0     \n",
       "\n",
       "   Coarse Aggregate  (component 6)(kg in a m^3 mixture)  \\\n",
       "0                                             1040.0      \n",
       "1                                             1055.0      \n",
       "2                                              932.0      \n",
       "3                                              932.0      \n",
       "4                                              978.4      \n",
       "\n",
       "   Fine Aggregate (component 7)(kg in a m^3 mixture)  Age (day)  \\\n",
       "0                                              676.0         28   \n",
       "1                                              676.0         28   \n",
       "2                                              594.0        270   \n",
       "3                                              594.0        365   \n",
       "4                                              825.5        360   \n",
       "\n",
       "   Concrete compressive strength(MPa, megapascals)   \n",
       "0                                             79.99  \n",
       "1                                             61.89  \n",
       "2                                             40.27  \n",
       "3                                             41.05  \n",
       "4                                             44.30  "
      ]
     },
     "execution_count": 3,
     "metadata": {},
     "output_type": "execute_result"
    }
   ],
   "source": [
    "data.head()"
   ]
  },
  {
   "cell_type": "code",
   "execution_count": 4,
   "metadata": {
    "colab": {
     "base_uri": "https://localhost:8080/"
    },
    "executionInfo": {
     "elapsed": 4,
     "status": "ok",
     "timestamp": 1633098870221,
     "user": {
      "displayName": "CYBER HK",
      "photoUrl": "https://lh3.googleusercontent.com/a-/AOh14GiyocT8oLSn_FiTqec5kTFzAif584E4d0bD4kj8=s64",
      "userId": "02159633137535017398"
     },
     "user_tz": -60
    },
    "id": "OQUIzkiskKR_",
    "outputId": "feeb8a98-3af7-401a-bc74-dd768dad93ca"
   },
   "outputs": [
    {
     "name": "stdout",
     "output_type": "stream",
     "text": [
      "<class 'pandas.core.frame.DataFrame'>\n",
      "RangeIndex: 1030 entries, 0 to 1029\n",
      "Data columns (total 9 columns):\n",
      " #   Column                                                 Non-Null Count  Dtype  \n",
      "---  ------                                                 --------------  -----  \n",
      " 0   Cement (component 1)(kg in a m^3 mixture)              1030 non-null   float64\n",
      " 1   Blast Furnace Slag (component 2)(kg in a m^3 mixture)  1030 non-null   float64\n",
      " 2   Fly Ash (component 3)(kg in a m^3 mixture)             1030 non-null   float64\n",
      " 3   Water  (component 4)(kg in a m^3 mixture)              1030 non-null   float64\n",
      " 4   Superplasticizer (component 5)(kg in a m^3 mixture)    1030 non-null   float64\n",
      " 5   Coarse Aggregate  (component 6)(kg in a m^3 mixture)   1030 non-null   float64\n",
      " 6   Fine Aggregate (component 7)(kg in a m^3 mixture)      1030 non-null   float64\n",
      " 7   Age (day)                                              1030 non-null   int64  \n",
      " 8   Concrete compressive strength(MPa, megapascals)        1030 non-null   float64\n",
      "dtypes: float64(8), int64(1)\n",
      "memory usage: 72.5 KB\n"
     ]
    }
   ],
   "source": [
    "data.info()"
   ]
  },
  {
   "cell_type": "code",
   "execution_count": 5,
   "metadata": {
    "executionInfo": {
     "elapsed": 5,
     "status": "ok",
     "timestamp": 1633098873925,
     "user": {
      "displayName": "CYBER HK",
      "photoUrl": "https://lh3.googleusercontent.com/a-/AOh14GiyocT8oLSn_FiTqec5kTFzAif584E4d0bD4kj8=s64",
      "userId": "02159633137535017398"
     },
     "user_tz": -60
    },
    "id": "Am2Oq8AikPuP"
   },
   "outputs": [],
   "source": [
    "# Separete features and targets\n",
    "features = data.iloc[:,:-1]\n",
    "targets = data.iloc[:,-1:]"
   ]
  },
  {
   "cell_type": "code",
   "execution_count": 6,
   "metadata": {
    "colab": {
     "base_uri": "https://localhost:8080/",
     "height": 476
    },
    "executionInfo": {
     "elapsed": 423,
     "status": "ok",
     "timestamp": 1633098879004,
     "user": {
      "displayName": "CYBER HK",
      "photoUrl": "https://lh3.googleusercontent.com/a-/AOh14GiyocT8oLSn_FiTqec5kTFzAif584E4d0bD4kj8=s64",
      "userId": "02159633137535017398"
     },
     "user_tz": -60
    },
    "id": "6OMsuMX7leqs",
    "outputId": "e6273a8d-49f3-48d9-9a29-5e048be46a64"
   },
   "outputs": [
    {
     "data": {
      "text/html": [
       "<div>\n",
       "<style scoped>\n",
       "    .dataframe tbody tr th:only-of-type {\n",
       "        vertical-align: middle;\n",
       "    }\n",
       "\n",
       "    .dataframe tbody tr th {\n",
       "        vertical-align: top;\n",
       "    }\n",
       "\n",
       "    .dataframe thead th {\n",
       "        text-align: right;\n",
       "    }\n",
       "</style>\n",
       "<table border=\"1\" class=\"dataframe\">\n",
       "  <thead>\n",
       "    <tr style=\"text-align: right;\">\n",
       "      <th></th>\n",
       "      <th>Cement (component 1)(kg in a m^3 mixture)</th>\n",
       "      <th>Blast Furnace Slag (component 2)(kg in a m^3 mixture)</th>\n",
       "      <th>Fly Ash (component 3)(kg in a m^3 mixture)</th>\n",
       "      <th>Water  (component 4)(kg in a m^3 mixture)</th>\n",
       "      <th>Superplasticizer (component 5)(kg in a m^3 mixture)</th>\n",
       "      <th>Coarse Aggregate  (component 6)(kg in a m^3 mixture)</th>\n",
       "      <th>Fine Aggregate (component 7)(kg in a m^3 mixture)</th>\n",
       "      <th>Age (day)</th>\n",
       "    </tr>\n",
       "  </thead>\n",
       "  <tbody>\n",
       "    <tr>\n",
       "      <th>0</th>\n",
       "      <td>540.0</td>\n",
       "      <td>0.0</td>\n",
       "      <td>0.0</td>\n",
       "      <td>162.0</td>\n",
       "      <td>2.5</td>\n",
       "      <td>1040.0</td>\n",
       "      <td>676.0</td>\n",
       "      <td>28</td>\n",
       "    </tr>\n",
       "    <tr>\n",
       "      <th>1</th>\n",
       "      <td>540.0</td>\n",
       "      <td>0.0</td>\n",
       "      <td>0.0</td>\n",
       "      <td>162.0</td>\n",
       "      <td>2.5</td>\n",
       "      <td>1055.0</td>\n",
       "      <td>676.0</td>\n",
       "      <td>28</td>\n",
       "    </tr>\n",
       "    <tr>\n",
       "      <th>2</th>\n",
       "      <td>332.5</td>\n",
       "      <td>142.5</td>\n",
       "      <td>0.0</td>\n",
       "      <td>228.0</td>\n",
       "      <td>0.0</td>\n",
       "      <td>932.0</td>\n",
       "      <td>594.0</td>\n",
       "      <td>270</td>\n",
       "    </tr>\n",
       "    <tr>\n",
       "      <th>3</th>\n",
       "      <td>332.5</td>\n",
       "      <td>142.5</td>\n",
       "      <td>0.0</td>\n",
       "      <td>228.0</td>\n",
       "      <td>0.0</td>\n",
       "      <td>932.0</td>\n",
       "      <td>594.0</td>\n",
       "      <td>365</td>\n",
       "    </tr>\n",
       "    <tr>\n",
       "      <th>4</th>\n",
       "      <td>198.6</td>\n",
       "      <td>132.4</td>\n",
       "      <td>0.0</td>\n",
       "      <td>192.0</td>\n",
       "      <td>0.0</td>\n",
       "      <td>978.4</td>\n",
       "      <td>825.5</td>\n",
       "      <td>360</td>\n",
       "    </tr>\n",
       "    <tr>\n",
       "      <th>...</th>\n",
       "      <td>...</td>\n",
       "      <td>...</td>\n",
       "      <td>...</td>\n",
       "      <td>...</td>\n",
       "      <td>...</td>\n",
       "      <td>...</td>\n",
       "      <td>...</td>\n",
       "      <td>...</td>\n",
       "    </tr>\n",
       "    <tr>\n",
       "      <th>1025</th>\n",
       "      <td>276.4</td>\n",
       "      <td>116.0</td>\n",
       "      <td>90.3</td>\n",
       "      <td>179.6</td>\n",
       "      <td>8.9</td>\n",
       "      <td>870.1</td>\n",
       "      <td>768.3</td>\n",
       "      <td>28</td>\n",
       "    </tr>\n",
       "    <tr>\n",
       "      <th>1026</th>\n",
       "      <td>322.2</td>\n",
       "      <td>0.0</td>\n",
       "      <td>115.6</td>\n",
       "      <td>196.0</td>\n",
       "      <td>10.4</td>\n",
       "      <td>817.9</td>\n",
       "      <td>813.4</td>\n",
       "      <td>28</td>\n",
       "    </tr>\n",
       "    <tr>\n",
       "      <th>1027</th>\n",
       "      <td>148.5</td>\n",
       "      <td>139.4</td>\n",
       "      <td>108.6</td>\n",
       "      <td>192.7</td>\n",
       "      <td>6.1</td>\n",
       "      <td>892.4</td>\n",
       "      <td>780.0</td>\n",
       "      <td>28</td>\n",
       "    </tr>\n",
       "    <tr>\n",
       "      <th>1028</th>\n",
       "      <td>159.1</td>\n",
       "      <td>186.7</td>\n",
       "      <td>0.0</td>\n",
       "      <td>175.6</td>\n",
       "      <td>11.3</td>\n",
       "      <td>989.6</td>\n",
       "      <td>788.9</td>\n",
       "      <td>28</td>\n",
       "    </tr>\n",
       "    <tr>\n",
       "      <th>1029</th>\n",
       "      <td>260.9</td>\n",
       "      <td>100.5</td>\n",
       "      <td>78.3</td>\n",
       "      <td>200.6</td>\n",
       "      <td>8.6</td>\n",
       "      <td>864.5</td>\n",
       "      <td>761.5</td>\n",
       "      <td>28</td>\n",
       "    </tr>\n",
       "  </tbody>\n",
       "</table>\n",
       "<p>1030 rows × 8 columns</p>\n",
       "</div>"
      ],
      "text/plain": [
       "      Cement (component 1)(kg in a m^3 mixture)  \\\n",
       "0                                         540.0   \n",
       "1                                         540.0   \n",
       "2                                         332.5   \n",
       "3                                         332.5   \n",
       "4                                         198.6   \n",
       "...                                         ...   \n",
       "1025                                      276.4   \n",
       "1026                                      322.2   \n",
       "1027                                      148.5   \n",
       "1028                                      159.1   \n",
       "1029                                      260.9   \n",
       "\n",
       "      Blast Furnace Slag (component 2)(kg in a m^3 mixture)  \\\n",
       "0                                                   0.0       \n",
       "1                                                   0.0       \n",
       "2                                                 142.5       \n",
       "3                                                 142.5       \n",
       "4                                                 132.4       \n",
       "...                                                 ...       \n",
       "1025                                              116.0       \n",
       "1026                                                0.0       \n",
       "1027                                              139.4       \n",
       "1028                                              186.7       \n",
       "1029                                              100.5       \n",
       "\n",
       "      Fly Ash (component 3)(kg in a m^3 mixture)  \\\n",
       "0                                            0.0   \n",
       "1                                            0.0   \n",
       "2                                            0.0   \n",
       "3                                            0.0   \n",
       "4                                            0.0   \n",
       "...                                          ...   \n",
       "1025                                        90.3   \n",
       "1026                                       115.6   \n",
       "1027                                       108.6   \n",
       "1028                                         0.0   \n",
       "1029                                        78.3   \n",
       "\n",
       "      Water  (component 4)(kg in a m^3 mixture)  \\\n",
       "0                                         162.0   \n",
       "1                                         162.0   \n",
       "2                                         228.0   \n",
       "3                                         228.0   \n",
       "4                                         192.0   \n",
       "...                                         ...   \n",
       "1025                                      179.6   \n",
       "1026                                      196.0   \n",
       "1027                                      192.7   \n",
       "1028                                      175.6   \n",
       "1029                                      200.6   \n",
       "\n",
       "      Superplasticizer (component 5)(kg in a m^3 mixture)  \\\n",
       "0                                                   2.5     \n",
       "1                                                   2.5     \n",
       "2                                                   0.0     \n",
       "3                                                   0.0     \n",
       "4                                                   0.0     \n",
       "...                                                 ...     \n",
       "1025                                                8.9     \n",
       "1026                                               10.4     \n",
       "1027                                                6.1     \n",
       "1028                                               11.3     \n",
       "1029                                                8.6     \n",
       "\n",
       "      Coarse Aggregate  (component 6)(kg in a m^3 mixture)  \\\n",
       "0                                                1040.0      \n",
       "1                                                1055.0      \n",
       "2                                                 932.0      \n",
       "3                                                 932.0      \n",
       "4                                                 978.4      \n",
       "...                                                 ...      \n",
       "1025                                              870.1      \n",
       "1026                                              817.9      \n",
       "1027                                              892.4      \n",
       "1028                                              989.6      \n",
       "1029                                              864.5      \n",
       "\n",
       "      Fine Aggregate (component 7)(kg in a m^3 mixture)  Age (day)  \n",
       "0                                                 676.0         28  \n",
       "1                                                 676.0         28  \n",
       "2                                                 594.0        270  \n",
       "3                                                 594.0        365  \n",
       "4                                                 825.5        360  \n",
       "...                                                 ...        ...  \n",
       "1025                                              768.3         28  \n",
       "1026                                              813.4         28  \n",
       "1027                                              780.0         28  \n",
       "1028                                              788.9         28  \n",
       "1029                                              761.5         28  \n",
       "\n",
       "[1030 rows x 8 columns]"
      ]
     },
     "execution_count": 6,
     "metadata": {},
     "output_type": "execute_result"
    }
   ],
   "source": [
    "features"
   ]
  },
  {
   "cell_type": "code",
   "execution_count": 7,
   "metadata": {
    "colab": {
     "base_uri": "https://localhost:8080/",
     "height": 300
    },
    "executionInfo": {
     "elapsed": 9,
     "status": "ok",
     "timestamp": 1633098880706,
     "user": {
      "displayName": "CYBER HK",
      "photoUrl": "https://lh3.googleusercontent.com/a-/AOh14GiyocT8oLSn_FiTqec5kTFzAif584E4d0bD4kj8=s64",
      "userId": "02159633137535017398"
     },
     "user_tz": -60
    },
    "id": "BljkWW2UlfDs",
    "outputId": "88c4918b-090e-4acb-a6f9-58979d894812"
   },
   "outputs": [
    {
     "data": {
      "text/html": [
       "<div>\n",
       "<style scoped>\n",
       "    .dataframe tbody tr th:only-of-type {\n",
       "        vertical-align: middle;\n",
       "    }\n",
       "\n",
       "    .dataframe tbody tr th {\n",
       "        vertical-align: top;\n",
       "    }\n",
       "\n",
       "    .dataframe thead th {\n",
       "        text-align: right;\n",
       "    }\n",
       "</style>\n",
       "<table border=\"1\" class=\"dataframe\">\n",
       "  <thead>\n",
       "    <tr style=\"text-align: right;\">\n",
       "      <th></th>\n",
       "      <th>Concrete compressive strength(MPa, megapascals)</th>\n",
       "    </tr>\n",
       "  </thead>\n",
       "  <tbody>\n",
       "    <tr>\n",
       "      <th>0</th>\n",
       "      <td>79.99</td>\n",
       "    </tr>\n",
       "    <tr>\n",
       "      <th>1</th>\n",
       "      <td>61.89</td>\n",
       "    </tr>\n",
       "    <tr>\n",
       "      <th>2</th>\n",
       "      <td>40.27</td>\n",
       "    </tr>\n",
       "    <tr>\n",
       "      <th>3</th>\n",
       "      <td>41.05</td>\n",
       "    </tr>\n",
       "    <tr>\n",
       "      <th>4</th>\n",
       "      <td>44.30</td>\n",
       "    </tr>\n",
       "    <tr>\n",
       "      <th>...</th>\n",
       "      <td>...</td>\n",
       "    </tr>\n",
       "    <tr>\n",
       "      <th>1025</th>\n",
       "      <td>44.28</td>\n",
       "    </tr>\n",
       "    <tr>\n",
       "      <th>1026</th>\n",
       "      <td>31.18</td>\n",
       "    </tr>\n",
       "    <tr>\n",
       "      <th>1027</th>\n",
       "      <td>23.70</td>\n",
       "    </tr>\n",
       "    <tr>\n",
       "      <th>1028</th>\n",
       "      <td>32.77</td>\n",
       "    </tr>\n",
       "    <tr>\n",
       "      <th>1029</th>\n",
       "      <td>32.40</td>\n",
       "    </tr>\n",
       "  </tbody>\n",
       "</table>\n",
       "<p>1030 rows × 1 columns</p>\n",
       "</div>"
      ],
      "text/plain": [
       "      Concrete compressive strength(MPa, megapascals) \n",
       "0                                                79.99\n",
       "1                                                61.89\n",
       "2                                                40.27\n",
       "3                                                41.05\n",
       "4                                                44.30\n",
       "...                                                ...\n",
       "1025                                             44.28\n",
       "1026                                             31.18\n",
       "1027                                             23.70\n",
       "1028                                             32.77\n",
       "1029                                             32.40\n",
       "\n",
       "[1030 rows x 1 columns]"
      ]
     },
     "execution_count": 7,
     "metadata": {},
     "output_type": "execute_result"
    }
   ],
   "source": [
    "targets"
   ]
  },
  {
   "cell_type": "code",
   "execution_count": 8,
   "metadata": {},
   "outputs": [],
   "source": [
    "features -= features.mean(axis=0)\n",
    "features /= features.std(axis=0)\n",
    "\n",
    "targets -= targets.mean(axis=0)\n",
    "targets /= targets.std(axis=0)\n",
    "\n",
    "features['Age (day)'] = data['Age (day)'] / 365"
   ]
  },
  {
   "cell_type": "code",
   "execution_count": 9,
   "metadata": {},
   "outputs": [
    {
     "data": {
      "text/html": [
       "<div>\n",
       "<style scoped>\n",
       "    .dataframe tbody tr th:only-of-type {\n",
       "        vertical-align: middle;\n",
       "    }\n",
       "\n",
       "    .dataframe tbody tr th {\n",
       "        vertical-align: top;\n",
       "    }\n",
       "\n",
       "    .dataframe thead th {\n",
       "        text-align: right;\n",
       "    }\n",
       "</style>\n",
       "<table border=\"1\" class=\"dataframe\">\n",
       "  <thead>\n",
       "    <tr style=\"text-align: right;\">\n",
       "      <th></th>\n",
       "      <th>Cement (component 1)(kg in a m^3 mixture)</th>\n",
       "      <th>Blast Furnace Slag (component 2)(kg in a m^3 mixture)</th>\n",
       "      <th>Fly Ash (component 3)(kg in a m^3 mixture)</th>\n",
       "      <th>Water  (component 4)(kg in a m^3 mixture)</th>\n",
       "      <th>Superplasticizer (component 5)(kg in a m^3 mixture)</th>\n",
       "      <th>Coarse Aggregate  (component 6)(kg in a m^3 mixture)</th>\n",
       "      <th>Fine Aggregate (component 7)(kg in a m^3 mixture)</th>\n",
       "      <th>Age (day)</th>\n",
       "    </tr>\n",
       "  </thead>\n",
       "  <tbody>\n",
       "    <tr>\n",
       "      <th>0</th>\n",
       "      <td>2.476712</td>\n",
       "      <td>-0.856472</td>\n",
       "      <td>-0.846733</td>\n",
       "      <td>-0.916319</td>\n",
       "      <td>-0.620147</td>\n",
       "      <td>0.862735</td>\n",
       "      <td>-1.217079</td>\n",
       "      <td>0.076712</td>\n",
       "    </tr>\n",
       "    <tr>\n",
       "      <th>1</th>\n",
       "      <td>2.476712</td>\n",
       "      <td>-0.856472</td>\n",
       "      <td>-0.846733</td>\n",
       "      <td>-0.916319</td>\n",
       "      <td>-0.620147</td>\n",
       "      <td>1.055651</td>\n",
       "      <td>-1.217079</td>\n",
       "      <td>0.076712</td>\n",
       "    </tr>\n",
       "    <tr>\n",
       "      <th>2</th>\n",
       "      <td>0.491187</td>\n",
       "      <td>0.795140</td>\n",
       "      <td>-0.846733</td>\n",
       "      <td>2.174405</td>\n",
       "      <td>-1.038638</td>\n",
       "      <td>-0.526262</td>\n",
       "      <td>-2.239829</td>\n",
       "      <td>0.739726</td>\n",
       "    </tr>\n",
       "    <tr>\n",
       "      <th>3</th>\n",
       "      <td>0.491187</td>\n",
       "      <td>0.795140</td>\n",
       "      <td>-0.846733</td>\n",
       "      <td>2.174405</td>\n",
       "      <td>-1.038638</td>\n",
       "      <td>-0.526262</td>\n",
       "      <td>-2.239829</td>\n",
       "      <td>1.000000</td>\n",
       "    </tr>\n",
       "    <tr>\n",
       "      <th>4</th>\n",
       "      <td>-0.790075</td>\n",
       "      <td>0.678079</td>\n",
       "      <td>-0.846733</td>\n",
       "      <td>0.488555</td>\n",
       "      <td>-1.038638</td>\n",
       "      <td>0.070492</td>\n",
       "      <td>0.647569</td>\n",
       "      <td>0.986301</td>\n",
       "    </tr>\n",
       "    <tr>\n",
       "      <th>...</th>\n",
       "      <td>...</td>\n",
       "      <td>...</td>\n",
       "      <td>...</td>\n",
       "      <td>...</td>\n",
       "      <td>...</td>\n",
       "      <td>...</td>\n",
       "      <td>...</td>\n",
       "      <td>...</td>\n",
       "    </tr>\n",
       "    <tr>\n",
       "      <th>1025</th>\n",
       "      <td>-0.045623</td>\n",
       "      <td>0.487998</td>\n",
       "      <td>0.564271</td>\n",
       "      <td>-0.092126</td>\n",
       "      <td>0.451190</td>\n",
       "      <td>-1.322363</td>\n",
       "      <td>-0.065861</td>\n",
       "      <td>0.076712</td>\n",
       "    </tr>\n",
       "    <tr>\n",
       "      <th>1026</th>\n",
       "      <td>0.392628</td>\n",
       "      <td>-0.856472</td>\n",
       "      <td>0.959602</td>\n",
       "      <td>0.675872</td>\n",
       "      <td>0.702285</td>\n",
       "      <td>-1.993711</td>\n",
       "      <td>0.496651</td>\n",
       "      <td>0.076712</td>\n",
       "    </tr>\n",
       "    <tr>\n",
       "      <th>1027</th>\n",
       "      <td>-1.269472</td>\n",
       "      <td>0.759210</td>\n",
       "      <td>0.850222</td>\n",
       "      <td>0.521336</td>\n",
       "      <td>-0.017520</td>\n",
       "      <td>-1.035561</td>\n",
       "      <td>0.080068</td>\n",
       "      <td>0.076712</td>\n",
       "    </tr>\n",
       "    <tr>\n",
       "      <th>1028</th>\n",
       "      <td>-1.168042</td>\n",
       "      <td>1.307430</td>\n",
       "      <td>-0.846733</td>\n",
       "      <td>-0.279443</td>\n",
       "      <td>0.852942</td>\n",
       "      <td>0.214537</td>\n",
       "      <td>0.191074</td>\n",
       "      <td>0.076712</td>\n",
       "    </tr>\n",
       "    <tr>\n",
       "      <th>1029</th>\n",
       "      <td>-0.193939</td>\n",
       "      <td>0.308349</td>\n",
       "      <td>0.376762</td>\n",
       "      <td>0.891286</td>\n",
       "      <td>0.400971</td>\n",
       "      <td>-1.394385</td>\n",
       "      <td>-0.150675</td>\n",
       "      <td>0.076712</td>\n",
       "    </tr>\n",
       "  </tbody>\n",
       "</table>\n",
       "<p>1030 rows × 8 columns</p>\n",
       "</div>"
      ],
      "text/plain": [
       "      Cement (component 1)(kg in a m^3 mixture)  \\\n",
       "0                                      2.476712   \n",
       "1                                      2.476712   \n",
       "2                                      0.491187   \n",
       "3                                      0.491187   \n",
       "4                                     -0.790075   \n",
       "...                                         ...   \n",
       "1025                                  -0.045623   \n",
       "1026                                   0.392628   \n",
       "1027                                  -1.269472   \n",
       "1028                                  -1.168042   \n",
       "1029                                  -0.193939   \n",
       "\n",
       "      Blast Furnace Slag (component 2)(kg in a m^3 mixture)  \\\n",
       "0                                             -0.856472       \n",
       "1                                             -0.856472       \n",
       "2                                              0.795140       \n",
       "3                                              0.795140       \n",
       "4                                              0.678079       \n",
       "...                                                 ...       \n",
       "1025                                           0.487998       \n",
       "1026                                          -0.856472       \n",
       "1027                                           0.759210       \n",
       "1028                                           1.307430       \n",
       "1029                                           0.308349       \n",
       "\n",
       "      Fly Ash (component 3)(kg in a m^3 mixture)  \\\n",
       "0                                      -0.846733   \n",
       "1                                      -0.846733   \n",
       "2                                      -0.846733   \n",
       "3                                      -0.846733   \n",
       "4                                      -0.846733   \n",
       "...                                          ...   \n",
       "1025                                    0.564271   \n",
       "1026                                    0.959602   \n",
       "1027                                    0.850222   \n",
       "1028                                   -0.846733   \n",
       "1029                                    0.376762   \n",
       "\n",
       "      Water  (component 4)(kg in a m^3 mixture)  \\\n",
       "0                                     -0.916319   \n",
       "1                                     -0.916319   \n",
       "2                                      2.174405   \n",
       "3                                      2.174405   \n",
       "4                                      0.488555   \n",
       "...                                         ...   \n",
       "1025                                  -0.092126   \n",
       "1026                                   0.675872   \n",
       "1027                                   0.521336   \n",
       "1028                                  -0.279443   \n",
       "1029                                   0.891286   \n",
       "\n",
       "      Superplasticizer (component 5)(kg in a m^3 mixture)  \\\n",
       "0                                             -0.620147     \n",
       "1                                             -0.620147     \n",
       "2                                             -1.038638     \n",
       "3                                             -1.038638     \n",
       "4                                             -1.038638     \n",
       "...                                                 ...     \n",
       "1025                                           0.451190     \n",
       "1026                                           0.702285     \n",
       "1027                                          -0.017520     \n",
       "1028                                           0.852942     \n",
       "1029                                           0.400971     \n",
       "\n",
       "      Coarse Aggregate  (component 6)(kg in a m^3 mixture)  \\\n",
       "0                                              0.862735      \n",
       "1                                              1.055651      \n",
       "2                                             -0.526262      \n",
       "3                                             -0.526262      \n",
       "4                                              0.070492      \n",
       "...                                                 ...      \n",
       "1025                                          -1.322363      \n",
       "1026                                          -1.993711      \n",
       "1027                                          -1.035561      \n",
       "1028                                           0.214537      \n",
       "1029                                          -1.394385      \n",
       "\n",
       "      Fine Aggregate (component 7)(kg in a m^3 mixture)  Age (day)  \n",
       "0                                             -1.217079   0.076712  \n",
       "1                                             -1.217079   0.076712  \n",
       "2                                             -2.239829   0.739726  \n",
       "3                                             -2.239829   1.000000  \n",
       "4                                              0.647569   0.986301  \n",
       "...                                                 ...        ...  \n",
       "1025                                          -0.065861   0.076712  \n",
       "1026                                           0.496651   0.076712  \n",
       "1027                                           0.080068   0.076712  \n",
       "1028                                           0.191074   0.076712  \n",
       "1029                                          -0.150675   0.076712  \n",
       "\n",
       "[1030 rows x 8 columns]"
      ]
     },
     "execution_count": 9,
     "metadata": {},
     "output_type": "execute_result"
    }
   ],
   "source": [
    "features"
   ]
  },
  {
   "cell_type": "code",
   "execution_count": 10,
   "metadata": {},
   "outputs": [
    {
     "data": {
      "text/html": [
       "<div>\n",
       "<style scoped>\n",
       "    .dataframe tbody tr th:only-of-type {\n",
       "        vertical-align: middle;\n",
       "    }\n",
       "\n",
       "    .dataframe tbody tr th {\n",
       "        vertical-align: top;\n",
       "    }\n",
       "\n",
       "    .dataframe thead th {\n",
       "        text-align: right;\n",
       "    }\n",
       "</style>\n",
       "<table border=\"1\" class=\"dataframe\">\n",
       "  <thead>\n",
       "    <tr style=\"text-align: right;\">\n",
       "      <th></th>\n",
       "      <th>Concrete compressive strength(MPa, megapascals)</th>\n",
       "    </tr>\n",
       "  </thead>\n",
       "  <tbody>\n",
       "    <tr>\n",
       "      <th>0</th>\n",
       "      <td>2.644123</td>\n",
       "    </tr>\n",
       "    <tr>\n",
       "      <th>1</th>\n",
       "      <td>1.560663</td>\n",
       "    </tr>\n",
       "    <tr>\n",
       "      <th>2</th>\n",
       "      <td>0.266498</td>\n",
       "    </tr>\n",
       "    <tr>\n",
       "      <th>3</th>\n",
       "      <td>0.313188</td>\n",
       "    </tr>\n",
       "    <tr>\n",
       "      <th>4</th>\n",
       "      <td>0.507732</td>\n",
       "    </tr>\n",
       "    <tr>\n",
       "      <th>...</th>\n",
       "      <td>...</td>\n",
       "    </tr>\n",
       "    <tr>\n",
       "      <th>1025</th>\n",
       "      <td>0.506535</td>\n",
       "    </tr>\n",
       "    <tr>\n",
       "      <th>1026</th>\n",
       "      <td>-0.277627</td>\n",
       "    </tr>\n",
       "    <tr>\n",
       "      <th>1027</th>\n",
       "      <td>-0.725377</td>\n",
       "    </tr>\n",
       "    <tr>\n",
       "      <th>1028</th>\n",
       "      <td>-0.182450</td>\n",
       "    </tr>\n",
       "    <tr>\n",
       "      <th>1029</th>\n",
       "      <td>-0.204598</td>\n",
       "    </tr>\n",
       "  </tbody>\n",
       "</table>\n",
       "<p>1030 rows × 1 columns</p>\n",
       "</div>"
      ],
      "text/plain": [
       "      Concrete compressive strength(MPa, megapascals) \n",
       "0                                             2.644123\n",
       "1                                             1.560663\n",
       "2                                             0.266498\n",
       "3                                             0.313188\n",
       "4                                             0.507732\n",
       "...                                                ...\n",
       "1025                                          0.506535\n",
       "1026                                         -0.277627\n",
       "1027                                         -0.725377\n",
       "1028                                         -0.182450\n",
       "1029                                         -0.204598\n",
       "\n",
       "[1030 rows x 1 columns]"
      ]
     },
     "execution_count": 10,
     "metadata": {},
     "output_type": "execute_result"
    }
   ],
   "source": [
    "targets"
   ]
  },
  {
   "cell_type": "code",
   "execution_count": 11,
   "metadata": {
    "colab": {
     "base_uri": "https://localhost:8080/"
    },
    "executionInfo": {
     "elapsed": 614,
     "status": "ok",
     "timestamp": 1633098900849,
     "user": {
      "displayName": "CYBER HK",
      "photoUrl": "https://lh3.googleusercontent.com/a-/AOh14GiyocT8oLSn_FiTqec5kTFzAif584E4d0bD4kj8=s64",
      "userId": "02159633137535017398"
     },
     "user_tz": -60
    },
    "id": "8JVsxGeAnc6Z",
    "outputId": "d07c63b0-02c3-4421-d788-acc65a391e15"
   },
   "outputs": [
    {
     "data": {
      "text/plain": [
       "(1030, 9)"
      ]
     },
     "execution_count": 11,
     "metadata": {},
     "output_type": "execute_result"
    }
   ],
   "source": [
    "data.shape"
   ]
  },
  {
   "cell_type": "code",
   "execution_count": 32,
   "metadata": {
    "executionInfo": {
     "elapsed": 613,
     "status": "ok",
     "timestamp": 1633098919943,
     "user": {
      "displayName": "CYBER HK",
      "photoUrl": "https://lh3.googleusercontent.com/a-/AOh14GiyocT8oLSn_FiTqec5kTFzAif584E4d0bD4kj8=s64",
      "userId": "02159633137535017398"
     },
     "user_tz": -60
    },
    "id": "qEuiJ8iRlloU"
   },
   "outputs": [],
   "source": [
    "# 50% training, 30% test, 20% Validation\n",
    "x_train, x_test, y_train, y_test = train_test_split(features, targets, test_size=0.3, random_state=42)\n",
    "x_train, x_val,  y_train, y_val  = train_test_split(x_train, y_train, test_size=0.2857, random_state=42)"
   ]
  },
  {
   "cell_type": "code",
   "execution_count": 13,
   "metadata": {
    "colab": {
     "base_uri": "https://localhost:8080/"
    },
    "executionInfo": {
     "elapsed": 6,
     "status": "ok",
     "timestamp": 1633098920463,
     "user": {
      "displayName": "CYBER HK",
      "photoUrl": "https://lh3.googleusercontent.com/a-/AOh14GiyocT8oLSn_FiTqec5kTFzAif584E4d0bD4kj8=s64",
      "userId": "02159633137535017398"
     },
     "user_tz": -60
    },
    "id": "YQNLC7JKnFvy",
    "outputId": "dc024afe-82a4-426b-8617-07273621189c"
   },
   "outputs": [
    {
     "data": {
      "text/plain": [
       "(515, 8)"
      ]
     },
     "execution_count": 13,
     "metadata": {},
     "output_type": "execute_result"
    }
   ],
   "source": [
    "x_train.shape"
   ]
  },
  {
   "cell_type": "code",
   "execution_count": 14,
   "metadata": {
    "colab": {
     "base_uri": "https://localhost:8080/"
    },
    "executionInfo": {
     "elapsed": 8,
     "status": "ok",
     "timestamp": 1633098922202,
     "user": {
      "displayName": "CYBER HK",
      "photoUrl": "https://lh3.googleusercontent.com/a-/AOh14GiyocT8oLSn_FiTqec5kTFzAif584E4d0bD4kj8=s64",
      "userId": "02159633137535017398"
     },
     "user_tz": -60
    },
    "id": "faqqBONdnJ6x",
    "outputId": "a5830a04-3533-4025-a0ff-35415fca14d0"
   },
   "outputs": [
    {
     "data": {
      "text/plain": [
       "(309, 8)"
      ]
     },
     "execution_count": 14,
     "metadata": {},
     "output_type": "execute_result"
    }
   ],
   "source": [
    "x_test.shape"
   ]
  },
  {
   "cell_type": "code",
   "execution_count": 15,
   "metadata": {
    "colab": {
     "base_uri": "https://localhost:8080/"
    },
    "executionInfo": {
     "elapsed": 6,
     "status": "ok",
     "timestamp": 1633098924430,
     "user": {
      "displayName": "CYBER HK",
      "photoUrl": "https://lh3.googleusercontent.com/a-/AOh14GiyocT8oLSn_FiTqec5kTFzAif584E4d0bD4kj8=s64",
      "userId": "02159633137535017398"
     },
     "user_tz": -60
    },
    "id": "6FpbM8PBRfSU",
    "outputId": "724e6927-b140-4df5-b3c1-386cafcbdc08"
   },
   "outputs": [
    {
     "data": {
      "text/plain": [
       "(206, 8)"
      ]
     },
     "execution_count": 15,
     "metadata": {},
     "output_type": "execute_result"
    }
   ],
   "source": [
    "x_val.shape"
   ]
  },
  {
   "cell_type": "code",
   "execution_count": 27,
   "metadata": {
    "executionInfo": {
     "elapsed": 467,
     "status": "ok",
     "timestamp": 1633103451725,
     "user": {
      "displayName": "CYBER HK",
      "photoUrl": "https://lh3.googleusercontent.com/a-/AOh14GiyocT8oLSn_FiTqec5kTFzAif584E4d0bD4kj8=s64",
      "userId": "02159633137535017398"
     },
     "user_tz": -60
    },
    "id": "JlIB6zCqqGUr"
   },
   "outputs": [],
   "source": [
    "# Build Network\n",
    "model = models.Sequential()\n",
    "model.add(layers.Dense(10, activation='relu', kernel_regularizer=regularizers.L1L2(0.001, 0.001), input_shape=(x_train.shape[1],)))\n",
    "model.add(layers.Dense(8, activation='relu', kernel_regularizer=regularizers.l1_l2(0.001)))\n",
    "model.add(layers.Dense(6, activation='relu', kernel_regularizer=regularizers.l1(0.001)))\n",
    "model.add(layers.Dense(4, activation='relu'))\n",
    "model.add(layers.Dense(2, activation='relu'))\n",
    "model.add(layers.Dense(1))"
   ]
  },
  {
   "cell_type": "code",
   "execution_count": 28,
   "metadata": {
    "executionInfo": {
     "elapsed": 3,
     "status": "ok",
     "timestamp": 1633103453560,
     "user": {
      "displayName": "CYBER HK",
      "photoUrl": "https://lh3.googleusercontent.com/a-/AOh14GiyocT8oLSn_FiTqec5kTFzAif584E4d0bD4kj8=s64",
      "userId": "02159633137535017398"
     },
     "user_tz": -60
    },
    "id": "IdYST9DwqwDj"
   },
   "outputs": [],
   "source": [
    "model.compile(optimizer='adam',\n",
    "              loss='mse',\n",
    "              metrics=['mae'])"
   ]
  },
  {
   "cell_type": "code",
   "execution_count": 29,
   "metadata": {
    "colab": {
     "base_uri": "https://localhost:8080/"
    },
    "executionInfo": {
     "elapsed": 10971,
     "status": "ok",
     "timestamp": 1633103464997,
     "user": {
      "displayName": "CYBER HK",
      "photoUrl": "https://lh3.googleusercontent.com/a-/AOh14GiyocT8oLSn_FiTqec5kTFzAif584E4d0bD4kj8=s64",
      "userId": "02159633137535017398"
     },
     "user_tz": -60
    },
    "id": "DzoVGEi0tE-u",
    "outputId": "84e5ffa8-9b44-4ff9-c004-aa4b97061dac"
   },
   "outputs": [
    {
     "name": "stdout",
     "output_type": "stream",
     "text": [
      "Epoch 1/100\n",
      "52/52 [==============================] - 1s 6ms/step - loss: 1.0631 - mae: 0.7718 - val_loss: 1.2412 - val_mae: 0.8430\n",
      "Epoch 2/100\n",
      "52/52 [==============================] - 0s 2ms/step - loss: 0.9779 - mae: 0.7442 - val_loss: 1.1110 - val_mae: 0.7961\n",
      "Epoch 3/100\n",
      "52/52 [==============================] - 0s 2ms/step - loss: 0.8565 - mae: 0.6969 - val_loss: 0.9492 - val_mae: 0.7380\n",
      "Epoch 4/100\n",
      "52/52 [==============================] - 0s 2ms/step - loss: 0.7453 - mae: 0.6528 - val_loss: 0.8176 - val_mae: 0.6849\n",
      "Epoch 5/100\n",
      "52/52 [==============================] - 0s 2ms/step - loss: 0.6775 - mae: 0.6174 - val_loss: 0.7591 - val_mae: 0.6615\n",
      "Epoch 6/100\n",
      "52/52 [==============================] - 0s 2ms/step - loss: 0.6412 - mae: 0.5973 - val_loss: 0.7252 - val_mae: 0.6489\n",
      "Epoch 7/100\n",
      "52/52 [==============================] - 0s 2ms/step - loss: 0.6152 - mae: 0.5820 - val_loss: 0.6985 - val_mae: 0.6367\n",
      "Epoch 8/100\n",
      "52/52 [==============================] - 0s 2ms/step - loss: 0.5957 - mae: 0.5731 - val_loss: 0.6825 - val_mae: 0.6284\n",
      "Epoch 9/100\n",
      "52/52 [==============================] - 0s 2ms/step - loss: 0.5841 - mae: 0.5697 - val_loss: 0.6620 - val_mae: 0.6172\n",
      "Epoch 10/100\n",
      "52/52 [==============================] - 0s 2ms/step - loss: 0.5641 - mae: 0.5590 - val_loss: 0.6501 - val_mae: 0.6125\n",
      "Epoch 11/100\n",
      "52/52 [==============================] - 0s 2ms/step - loss: 0.5534 - mae: 0.5519 - val_loss: 0.6369 - val_mae: 0.6053\n",
      "Epoch 12/100\n",
      "52/52 [==============================] - 0s 2ms/step - loss: 0.5386 - mae: 0.5452 - val_loss: 0.6267 - val_mae: 0.6011\n",
      "Epoch 13/100\n",
      "52/52 [==============================] - 0s 2ms/step - loss: 0.5271 - mae: 0.5382 - val_loss: 0.6147 - val_mae: 0.5943\n",
      "Epoch 14/100\n",
      "52/52 [==============================] - 0s 2ms/step - loss: 0.5148 - mae: 0.5289 - val_loss: 0.6111 - val_mae: 0.5911\n",
      "Epoch 15/100\n",
      "52/52 [==============================] - 0s 2ms/step - loss: 0.5057 - mae: 0.5249 - val_loss: 0.5890 - val_mae: 0.5775\n",
      "Epoch 16/100\n",
      "52/52 [==============================] - 0s 2ms/step - loss: 0.4910 - mae: 0.5171 - val_loss: 0.5755 - val_mae: 0.5686\n",
      "Epoch 17/100\n",
      "52/52 [==============================] - 0s 2ms/step - loss: 0.4769 - mae: 0.5087 - val_loss: 0.5598 - val_mae: 0.5595\n",
      "Epoch 18/100\n",
      "52/52 [==============================] - 0s 2ms/step - loss: 0.4627 - mae: 0.4991 - val_loss: 0.5418 - val_mae: 0.5453\n",
      "Epoch 19/100\n",
      "52/52 [==============================] - 0s 2ms/step - loss: 0.4493 - mae: 0.4915 - val_loss: 0.5342 - val_mae: 0.5374\n",
      "Epoch 20/100\n",
      "52/52 [==============================] - 0s 2ms/step - loss: 0.4348 - mae: 0.4797 - val_loss: 0.5134 - val_mae: 0.5151\n",
      "Epoch 21/100\n",
      "52/52 [==============================] - 0s 2ms/step - loss: 0.4165 - mae: 0.4665 - val_loss: 0.4958 - val_mae: 0.5056\n",
      "Epoch 22/100\n",
      "52/52 [==============================] - 0s 2ms/step - loss: 0.4020 - mae: 0.4511 - val_loss: 0.4684 - val_mae: 0.4863\n",
      "Epoch 23/100\n",
      "52/52 [==============================] - 0s 2ms/step - loss: 0.3836 - mae: 0.4326 - val_loss: 0.4689 - val_mae: 0.4823\n",
      "Epoch 24/100\n",
      "52/52 [==============================] - 0s 2ms/step - loss: 0.3723 - mae: 0.4244 - val_loss: 0.4557 - val_mae: 0.4635\n",
      "Epoch 25/100\n",
      "52/52 [==============================] - 0s 2ms/step - loss: 0.3669 - mae: 0.4158 - val_loss: 0.4352 - val_mae: 0.4608\n",
      "Epoch 26/100\n",
      "52/52 [==============================] - 0s 2ms/step - loss: 0.3544 - mae: 0.4080 - val_loss: 0.4350 - val_mae: 0.4531\n",
      "Epoch 27/100\n",
      "52/52 [==============================] - 0s 2ms/step - loss: 0.3499 - mae: 0.4011 - val_loss: 0.4396 - val_mae: 0.4635\n",
      "Epoch 28/100\n",
      "52/52 [==============================] - 0s 2ms/step - loss: 0.3435 - mae: 0.3956 - val_loss: 0.4153 - val_mae: 0.4450\n",
      "Epoch 29/100\n",
      "52/52 [==============================] - 0s 2ms/step - loss: 0.3430 - mae: 0.3984 - val_loss: 0.4084 - val_mae: 0.4403\n",
      "Epoch 30/100\n",
      "52/52 [==============================] - 0s 2ms/step - loss: 0.3435 - mae: 0.3973 - val_loss: 0.4130 - val_mae: 0.4503\n",
      "Epoch 31/100\n",
      "52/52 [==============================] - 0s 2ms/step - loss: 0.3359 - mae: 0.3909 - val_loss: 0.4011 - val_mae: 0.4336\n",
      "Epoch 32/100\n",
      "52/52 [==============================] - 0s 2ms/step - loss: 0.3289 - mae: 0.3846 - val_loss: 0.3991 - val_mae: 0.4372\n",
      "Epoch 33/100\n",
      "52/52 [==============================] - 0s 2ms/step - loss: 0.3301 - mae: 0.3872 - val_loss: 0.3983 - val_mae: 0.4293\n",
      "Epoch 34/100\n",
      "52/52 [==============================] - 0s 2ms/step - loss: 0.3256 - mae: 0.3810 - val_loss: 0.3929 - val_mae: 0.4314\n",
      "Epoch 35/100\n",
      "52/52 [==============================] - 0s 2ms/step - loss: 0.3274 - mae: 0.3840 - val_loss: 0.3939 - val_mae: 0.4264\n",
      "Epoch 36/100\n",
      "52/52 [==============================] - 0s 2ms/step - loss: 0.3137 - mae: 0.3758 - val_loss: 0.3810 - val_mae: 0.4194\n",
      "Epoch 37/100\n",
      "52/52 [==============================] - 0s 2ms/step - loss: 0.3180 - mae: 0.3763 - val_loss: 0.3813 - val_mae: 0.4221\n",
      "Epoch 38/100\n",
      "52/52 [==============================] - 0s 3ms/step - loss: 0.3123 - mae: 0.3736 - val_loss: 0.3805 - val_mae: 0.4183\n",
      "Epoch 39/100\n",
      "52/52 [==============================] - 0s 2ms/step - loss: 0.3086 - mae: 0.3668 - val_loss: 0.3722 - val_mae: 0.4147\n",
      "Epoch 40/100\n",
      "52/52 [==============================] - 0s 2ms/step - loss: 0.3144 - mae: 0.3746 - val_loss: 0.3902 - val_mae: 0.4134\n",
      "Epoch 41/100\n",
      "52/52 [==============================] - 0s 2ms/step - loss: 0.3110 - mae: 0.3698 - val_loss: 0.3713 - val_mae: 0.4113\n",
      "Epoch 42/100\n",
      "52/52 [==============================] - 0s 2ms/step - loss: 0.3074 - mae: 0.3706 - val_loss: 0.3659 - val_mae: 0.4089\n",
      "Epoch 43/100\n",
      "52/52 [==============================] - 0s 2ms/step - loss: 0.2976 - mae: 0.3615 - val_loss: 0.3700 - val_mae: 0.4119\n",
      "Epoch 44/100\n",
      "52/52 [==============================] - 0s 2ms/step - loss: 0.3010 - mae: 0.3630 - val_loss: 0.3643 - val_mae: 0.4142\n",
      "Epoch 45/100\n",
      "52/52 [==============================] - 0s 2ms/step - loss: 0.2993 - mae: 0.3633 - val_loss: 0.3545 - val_mae: 0.4047\n",
      "Epoch 46/100\n",
      "52/52 [==============================] - 0s 2ms/step - loss: 0.2929 - mae: 0.3561 - val_loss: 0.3575 - val_mae: 0.4093\n",
      "Epoch 47/100\n",
      "52/52 [==============================] - 0s 2ms/step - loss: 0.2925 - mae: 0.3552 - val_loss: 0.3602 - val_mae: 0.4023\n",
      "Epoch 48/100\n",
      "52/52 [==============================] - 0s 2ms/step - loss: 0.2887 - mae: 0.3568 - val_loss: 0.3474 - val_mae: 0.3993\n",
      "Epoch 49/100\n",
      "52/52 [==============================] - 0s 2ms/step - loss: 0.2854 - mae: 0.3513 - val_loss: 0.3585 - val_mae: 0.4124\n",
      "Epoch 50/100\n",
      "52/52 [==============================] - 0s 2ms/step - loss: 0.2847 - mae: 0.3505 - val_loss: 0.3420 - val_mae: 0.3934\n",
      "Epoch 51/100\n",
      "52/52 [==============================] - 0s 3ms/step - loss: 0.2825 - mae: 0.3484 - val_loss: 0.3413 - val_mae: 0.3978\n",
      "Epoch 52/100\n",
      "52/52 [==============================] - 0s 2ms/step - loss: 0.2795 - mae: 0.3454 - val_loss: 0.3372 - val_mae: 0.3910\n",
      "Epoch 53/100\n",
      "52/52 [==============================] - 0s 3ms/step - loss: 0.2821 - mae: 0.3460 - val_loss: 0.3385 - val_mae: 0.3860\n",
      "Epoch 54/100\n",
      "52/52 [==============================] - 0s 2ms/step - loss: 0.2810 - mae: 0.3489 - val_loss: 0.3281 - val_mae: 0.3816\n",
      "Epoch 55/100\n",
      "52/52 [==============================] - 0s 2ms/step - loss: 0.2759 - mae: 0.3471 - val_loss: 0.3356 - val_mae: 0.3879\n",
      "Epoch 56/100\n",
      "52/52 [==============================] - 0s 2ms/step - loss: 0.2725 - mae: 0.3399 - val_loss: 0.3371 - val_mae: 0.3901\n",
      "Epoch 57/100\n",
      "52/52 [==============================] - 0s 2ms/step - loss: 0.2726 - mae: 0.3374 - val_loss: 0.3305 - val_mae: 0.3811\n",
      "Epoch 58/100\n",
      "52/52 [==============================] - 0s 2ms/step - loss: 0.2711 - mae: 0.3403 - val_loss: 0.3185 - val_mae: 0.3774\n",
      "Epoch 59/100\n",
      "52/52 [==============================] - 0s 2ms/step - loss: 0.2707 - mae: 0.3340 - val_loss: 0.3241 - val_mae: 0.3885\n",
      "Epoch 60/100\n",
      "52/52 [==============================] - 0s 2ms/step - loss: 0.2677 - mae: 0.3360 - val_loss: 0.3189 - val_mae: 0.3820\n",
      "Epoch 61/100\n",
      "52/52 [==============================] - 0s 2ms/step - loss: 0.2645 - mae: 0.3345 - val_loss: 0.3262 - val_mae: 0.3912\n",
      "Epoch 62/100\n",
      "52/52 [==============================] - 0s 2ms/step - loss: 0.2655 - mae: 0.3312 - val_loss: 0.3190 - val_mae: 0.3717\n",
      "Epoch 63/100\n"
     ]
    },
    {
     "name": "stdout",
     "output_type": "stream",
     "text": [
      "52/52 [==============================] - 0s 2ms/step - loss: 0.2590 - mae: 0.3291 - val_loss: 0.3157 - val_mae: 0.3801\n",
      "Epoch 64/100\n",
      "52/52 [==============================] - 0s 2ms/step - loss: 0.2668 - mae: 0.3370 - val_loss: 0.3125 - val_mae: 0.3761\n",
      "Epoch 65/100\n",
      "52/52 [==============================] - 0s 2ms/step - loss: 0.2586 - mae: 0.3261 - val_loss: 0.3204 - val_mae: 0.3820\n",
      "Epoch 66/100\n",
      "52/52 [==============================] - 0s 2ms/step - loss: 0.2618 - mae: 0.3304 - val_loss: 0.3081 - val_mae: 0.3787\n",
      "Epoch 67/100\n",
      "52/52 [==============================] - 0s 2ms/step - loss: 0.2574 - mae: 0.3269 - val_loss: 0.3127 - val_mae: 0.3754\n",
      "Epoch 68/100\n",
      "52/52 [==============================] - 0s 2ms/step - loss: 0.2503 - mae: 0.3171 - val_loss: 0.3063 - val_mae: 0.3706\n",
      "Epoch 69/100\n",
      "52/52 [==============================] - 0s 2ms/step - loss: 0.2495 - mae: 0.3185 - val_loss: 0.3025 - val_mae: 0.3702\n",
      "Epoch 70/100\n",
      "52/52 [==============================] - 0s 2ms/step - loss: 0.2521 - mae: 0.3259 - val_loss: 0.3161 - val_mae: 0.3736\n",
      "Epoch 71/100\n",
      "52/52 [==============================] - 0s 2ms/step - loss: 0.2507 - mae: 0.3183 - val_loss: 0.2953 - val_mae: 0.3655\n",
      "Epoch 72/100\n",
      "52/52 [==============================] - 0s 2ms/step - loss: 0.2471 - mae: 0.3177 - val_loss: 0.3031 - val_mae: 0.3665\n",
      "Epoch 73/100\n",
      "52/52 [==============================] - 0s 2ms/step - loss: 0.2470 - mae: 0.3190 - val_loss: 0.2988 - val_mae: 0.3732\n",
      "Epoch 74/100\n",
      "52/52 [==============================] - 0s 2ms/step - loss: 0.2428 - mae: 0.3124 - val_loss: 0.3131 - val_mae: 0.3760\n",
      "Epoch 75/100\n",
      "52/52 [==============================] - 0s 2ms/step - loss: 0.2471 - mae: 0.3113 - val_loss: 0.2964 - val_mae: 0.3584\n",
      "Epoch 76/100\n",
      "52/52 [==============================] - 0s 2ms/step - loss: 0.2427 - mae: 0.3098 - val_loss: 0.2946 - val_mae: 0.3690\n",
      "Epoch 77/100\n",
      "52/52 [==============================] - 0s 2ms/step - loss: 0.2413 - mae: 0.3106 - val_loss: 0.2904 - val_mae: 0.3655\n",
      "Epoch 78/100\n",
      "52/52 [==============================] - 0s 2ms/step - loss: 0.2397 - mae: 0.3126 - val_loss: 0.3327 - val_mae: 0.3879\n",
      "Epoch 79/100\n",
      "52/52 [==============================] - 0s 2ms/step - loss: 0.2448 - mae: 0.3128 - val_loss: 0.2894 - val_mae: 0.3620\n",
      "Epoch 80/100\n",
      "52/52 [==============================] - 0s 2ms/step - loss: 0.2370 - mae: 0.3072 - val_loss: 0.2895 - val_mae: 0.3638\n",
      "Epoch 81/100\n",
      "52/52 [==============================] - 0s 2ms/step - loss: 0.2341 - mae: 0.3026 - val_loss: 0.2914 - val_mae: 0.3673\n",
      "Epoch 82/100\n",
      "52/52 [==============================] - 0s 2ms/step - loss: 0.2321 - mae: 0.3018 - val_loss: 0.2993 - val_mae: 0.3689\n",
      "Epoch 83/100\n",
      "52/52 [==============================] - 0s 2ms/step - loss: 0.2402 - mae: 0.3097 - val_loss: 0.3013 - val_mae: 0.3652\n",
      "Epoch 84/100\n",
      "52/52 [==============================] - 0s 2ms/step - loss: 0.2329 - mae: 0.3048 - val_loss: 0.2826 - val_mae: 0.3544\n",
      "Epoch 85/100\n",
      "52/52 [==============================] - 0s 2ms/step - loss: 0.2320 - mae: 0.3045 - val_loss: 0.2777 - val_mae: 0.3485\n",
      "Epoch 86/100\n",
      "52/52 [==============================] - 0s 2ms/step - loss: 0.2304 - mae: 0.3014 - val_loss: 0.2780 - val_mae: 0.3559\n",
      "Epoch 87/100\n",
      "52/52 [==============================] - 0s 2ms/step - loss: 0.2317 - mae: 0.3057 - val_loss: 0.3055 - val_mae: 0.3702\n",
      "Epoch 88/100\n",
      "52/52 [==============================] - 0s 2ms/step - loss: 0.2325 - mae: 0.3066 - val_loss: 0.2781 - val_mae: 0.3512\n",
      "Epoch 89/100\n",
      "52/52 [==============================] - 0s 2ms/step - loss: 0.2239 - mae: 0.2954 - val_loss: 0.2770 - val_mae: 0.3536\n",
      "Epoch 90/100\n",
      "52/52 [==============================] - 0s 2ms/step - loss: 0.2227 - mae: 0.2971 - val_loss: 0.2709 - val_mae: 0.3489\n",
      "Epoch 91/100\n",
      "52/52 [==============================] - 0s 2ms/step - loss: 0.2218 - mae: 0.2949 - val_loss: 0.2702 - val_mae: 0.3450\n",
      "Epoch 92/100\n",
      "52/52 [==============================] - 0s 2ms/step - loss: 0.2219 - mae: 0.2980 - val_loss: 0.2753 - val_mae: 0.3540\n",
      "Epoch 93/100\n",
      "52/52 [==============================] - 0s 2ms/step - loss: 0.2209 - mae: 0.2945 - val_loss: 0.2805 - val_mae: 0.3570\n",
      "Epoch 94/100\n",
      "52/52 [==============================] - 0s 2ms/step - loss: 0.2231 - mae: 0.2981 - val_loss: 0.2604 - val_mae: 0.3373\n",
      "Epoch 95/100\n",
      "52/52 [==============================] - 0s 2ms/step - loss: 0.2263 - mae: 0.2945 - val_loss: 0.3581 - val_mae: 0.3991\n",
      "Epoch 96/100\n",
      "52/52 [==============================] - 0s 2ms/step - loss: 0.2388 - mae: 0.3138 - val_loss: 0.2938 - val_mae: 0.3604\n",
      "Epoch 97/100\n",
      "52/52 [==============================] - 0s 2ms/step - loss: 0.2240 - mae: 0.3004 - val_loss: 0.2838 - val_mae: 0.3606\n",
      "Epoch 98/100\n",
      "52/52 [==============================] - 0s 2ms/step - loss: 0.2240 - mae: 0.3003 - val_loss: 0.2655 - val_mae: 0.3440\n",
      "Epoch 99/100\n",
      "52/52 [==============================] - 0s 2ms/step - loss: 0.2161 - mae: 0.2893 - val_loss: 0.2610 - val_mae: 0.3390\n",
      "Epoch 100/100\n",
      "52/52 [==============================] - 0s 2ms/step - loss: 0.2148 - mae: 0.2894 - val_loss: 0.2718 - val_mae: 0.3465\n"
     ]
    }
   ],
   "source": [
    "history = model.fit(x_train, y_train, batch_size=10, epochs=100, validation_data=(x_val, y_val))"
   ]
  },
  {
   "cell_type": "code",
   "execution_count": 30,
   "metadata": {
    "colab": {
     "base_uri": "https://localhost:8080/",
     "height": 296
    },
    "executionInfo": {
     "elapsed": 533,
     "status": "ok",
     "timestamp": 1633103468278,
     "user": {
      "displayName": "CYBER HK",
      "photoUrl": "https://lh3.googleusercontent.com/a-/AOh14GiyocT8oLSn_FiTqec5kTFzAif584E4d0bD4kj8=s64",
      "userId": "02159633137535017398"
     },
     "user_tz": -60
    },
    "id": "mia3GPCrSSRL",
    "outputId": "1b8fc56c-7610-4abb-e6d3-c16dee29c2ee"
   },
   "outputs": [
    {
     "data": {
      "text/plain": [
       "<function matplotlib.pyplot.show(close=None, block=None)>"
      ]
     },
     "execution_count": 30,
     "metadata": {},
     "output_type": "execute_result"
    },
    {
     "data": {
      "image/png": "[encoded data removed]",
      "text/plain": [
       "<Figure size 432x288 with 1 Axes>"
      ]
     },
     "metadata": {
      "needs_background": "light"
     },
     "output_type": "display_data"
    }
   ],
   "source": [
    "plt.plot(np.arange(0,len(history.history['mae'])), history.history['mae'], 'b', label='Training')\n",
    "plt.plot(np.arange(0,len(history.history['mae'])), history.history['val_mae'], '-r', label='Validating')\n",
    "plt.xlabel(\"Epochs\")\n",
    "plt.ylabel(\"MAE\")\n",
    "plt.legend()\n",
    "plt.show"
   ]
  },
  {
   "cell_type": "code",
   "execution_count": 33,
   "metadata": {
    "colab": {
     "base_uri": "https://localhost:8080/"
    },
    "executionInfo": {
     "elapsed": 431,
     "status": "ok",
     "timestamp": 1633099415378,
     "user": {
      "displayName": "CYBER HK",
      "photoUrl": "https://lh3.googleusercontent.com/a-/AOh14GiyocT8oLSn_FiTqec5kTFzAif584E4d0bD4kj8=s64",
      "userId": "02159633137535017398"
     },
     "user_tz": -60
    },
    "id": "WCLlcNNGtXLb",
    "outputId": "9127163b-201b-4bf2-d738-2343b855a012"
   },
   "outputs": [
    {
     "name": "stdout",
     "output_type": "stream",
     "text": [
      "10/10 [==============================] - 0s 2ms/step - loss: 0.2717 - mae: 0.3497\n"
     ]
    }
   ],
   "source": [
    "test_mse_score, test_mae_score = model.evaluate(x_test, y_test)"
   ]
  },
  {
   "cell_type": "code",
   "execution_count": 34,
   "metadata": {
    "colab": {
     "base_uri": "https://localhost:8080/"
    },
    "executionInfo": {
     "elapsed": 440,
     "status": "ok",
     "timestamp": 1633097943440,
     "user": {
      "displayName": "CYBER HK",
      "photoUrl": "https://lh3.googleusercontent.com/a-/AOh14GiyocT8oLSn_FiTqec5kTFzAif584E4d0bD4kj8=s64",
      "userId": "02159633137535017398"
     },
     "user_tz": -60
    },
    "id": "W1JjXE9KwIWv",
    "outputId": "0d32f962-3358-4747-db2e-8416dc3ff5c6"
   },
   "outputs": [
    {
     "data": {
      "text/plain": [
       "0.27168166637420654"
      ]
     },
     "execution_count": 34,
     "metadata": {},
     "output_type": "execute_result"
    }
   ],
   "source": [
    "test_mse_score"
   ]
  },
  {
   "cell_type": "code",
   "execution_count": 35,
   "metadata": {
    "colab": {
     "base_uri": "https://localhost:8080/"
    },
    "executionInfo": {
     "elapsed": 5,
     "status": "ok",
     "timestamp": 1633097943872,
     "user": {
      "displayName": "CYBER HK",
      "photoUrl": "https://lh3.googleusercontent.com/a-/AOh14GiyocT8oLSn_FiTqec5kTFzAif584E4d0bD4kj8=s64",
      "userId": "02159633137535017398"
     },
     "user_tz": -60
    },
    "id": "RhNOyuDOwJb_",
    "outputId": "f0eb344f-48b9-4e6f-a0af-75d28814ca5f"
   },
   "outputs": [
    {
     "data": {
      "text/plain": [
       "0.3497203588485718"
      ]
     },
     "execution_count": 35,
     "metadata": {},
     "output_type": "execute_result"
    }
   ],
   "source": [
    "test_mae_score"
   ]
  },
  {
   "cell_type": "code",
   "execution_count": 36,
   "metadata": {
    "executionInfo": {
     "elapsed": 483,
     "status": "ok",
     "timestamp": 1633097919262,
     "user": {
      "displayName": "CYBER HK",
      "photoUrl": "https://lh3.googleusercontent.com/a-/AOh14GiyocT8oLSn_FiTqec5kTFzAif584E4d0bD4kj8=s64",
      "userId": "02159633137535017398"
     },
     "user_tz": -60
    },
    "id": "wXR5bh0pwKQv"
   },
   "outputs": [],
   "source": [
    "y_pred = model.predict(x_test)"
   ]
  },
  {
   "cell_type": "code",
   "execution_count": 37,
   "metadata": {
    "executionInfo": {
     "elapsed": 15,
     "status": "aborted",
     "timestamp": 1633095853008,
     "user": {
      "displayName": "CYBER HK",
      "photoUrl": "https://lh3.googleusercontent.com/a-/AOh14GiyocT8oLSn_FiTqec5kTFzAif584E4d0bD4kj8=s64",
      "userId": "02159633137535017398"
     },
     "user_tz": -60
    },
    "id": "7z3RwzA1AsPO"
   },
   "outputs": [],
   "source": [
    "y_pred = np.array(y_pred.reshape(y_pred.shape[0]))"
   ]
  },
  {
   "cell_type": "code",
   "execution_count": 38,
   "metadata": {},
   "outputs": [],
   "source": [
    "y_test = sorted(y_test.values)\n",
    "y_pred = sorted(y_pred)"
   ]
  },
  {
   "cell_type": "code",
   "execution_count": 39,
   "metadata": {},
   "outputs": [
    {
     "data": {
      "image/png": "[encoded data removed]",
      "text/plain": [
       "<Figure size 432x288 with 1 Axes>"
      ]
     },
     "metadata": {
      "needs_background": "light"
     },
     "output_type": "display_data"
    }
   ],
   "source": [
    "plt.plot(y_test,  label='Actual')\n",
    "plt.plot(y_pred, label='Predicted')\n",
    "plt.ylabel('Concrete Strength')   \n",
    "plt.xlabel('Item')\n",
    "plt.legend()\n",
    "plt.show()"
   ]
  },
  {
   "cell_type": "code",
   "execution_count": null,
   "metadata": {},
   "outputs": [],
   "source": []
  },
  {
   "cell_type": "code",
   "execution_count": null,
   "metadata": {},
   "outputs": [],
   "source": []
  },
  {
   "cell_type": "code",
   "execution_count": null,
   "metadata": {},
   "outputs": [],
   "source": []
  }
 ],
 "metadata": {
  "accelerator": "TPU",
  "colab": {
   "authorship_tag": "ABX9TyOCPObie/fS8ZGTAvyEkPbd",
   "collapsed_sections": [],
   "name": "Compresive Strength Concrete Problem.ipynb",
   "provenance": []
  },
  "kernelspec": {
   "display_name": "Python 3",
   "language": "python",
   "name": "python3"
  },
  "language_info": {
   "codemirror_mode": {
    "name": "ipython",
    "version": 3
   },
   "file_extension": ".py",
   "mimetype": "text/x-python",
   "name": "python",
   "nbconvert_exporter": "python",
   "pygments_lexer": "ipython3",
   "version": "3.8.8"
  }
 },
 "nbformat": 4,
 "nbformat_minor": 1
}
